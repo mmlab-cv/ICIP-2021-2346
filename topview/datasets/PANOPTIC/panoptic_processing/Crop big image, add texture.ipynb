{
 "cells": [
  {
   "cell_type": "code",
   "execution_count": 1,
   "metadata": {},
   "outputs": [],
   "source": [
    "import numpy as np\n",
    "import pandas as pd\n",
    "from matplotlib import pyplot as plt\n",
    "from numpy import genfromtxt\n",
    "import os\n",
    "import cv2"
   ]
  },
  {
   "cell_type": "code",
   "execution_count": 3,
   "metadata": {},
   "outputs": [],
   "source": [
    "def show(img):\n",
    "    plt.imshow(img, cmap = 'gray', interpolation = 'bicubic')\n",
    "    plt.xticks([]), plt.yticks([])  # to hide tick values on X and Y axis\n",
    "    plt.show()"
   ]
  },
  {
   "cell_type": "code",
   "execution_count": 13,
   "metadata": {},
   "outputs": [],
   "source": [
    "def crop_image(input_path, output_path):\n",
    "    image = cv2.imread(input_path, 0)\n",
    "    color_image = cv2.imread(input_path)\n",
    "    \n",
    "    # thresholding\n",
    "    image[image < 255] = 0\n",
    "    image = 255-image\n",
    "\n",
    "    im2,contours,hierarchy = cv2.findContours(image, cv2.RETR_EXTERNAL, cv2.CHAIN_APPROX_NONE)\n",
    "\n",
    "    kernel = np.ones((3, 3),np.uint8)\n",
    "    \n",
    "    im2 = cv2.erode(im2,kernel,iterations = 3)\n",
    "    im2 = cv2.dilate(im2,kernel,iterations = 3)\n",
    "    \n",
    "    if len(contours) != 0:\n",
    "        c = max(contours, key = cv2.contourArea)\n",
    "        x,y,w,h = cv2.boundingRect(c)\n",
    "        \n",
    "        color_image[:y, :] = [255, 255, 255]\n",
    "        color_image[y+h:, :] = [255, 255, 255]\n",
    "        color_image[:, :x] = [255, 255, 255]\n",
    "        color_image[:, x+w:] = [255, 255, 255]\n",
    "        \n",
    "\n",
    "        color_image[im2 == 0] = [255, 255, 255]\n",
    "\n",
    "        x = x + w//2 - 200\n",
    "        y = y + h//2 - 200\n",
    "        w = h = 400\n",
    "        \n",
    "        \n",
    "        cv2.imwrite(output_path, color_image[y:y+h, x:x+w])"
   ]
  },
  {
   "cell_type": "code",
   "execution_count": 12,
   "metadata": {
    "collapsed": true
   },
   "outputs": [
    {
     "name": "stdout",
     "output_type": "stream",
     "text": [
      "(1047, 1920)\n"
     ]
    },
    {
     "data": {
      "image/png": "[encoded data removed]",
      "text/plain": [
       "<Figure size 432x288 with 1 Axes>"
      ]
     },
     "metadata": {},
     "output_type": "display_data"
    }
   ],
   "source": [
    "for angle in range(1, 5):\n",
    "    for i in range(10, 50001, 10):\n",
    "        input_path = f\"rgb_big/{i:08}_{angle}.png\"\n",
    "        output_path = f\"rgb/{i:08}_{angle}.png\"\n",
    "                \n",
    "        if os.path.exists(input_path):\n",
    "            crop_image(input_path, output_path)"
   ]
  },
  {
   "cell_type": "code",
   "execution_count": 12,
   "metadata": {},
   "outputs": [],
   "source": [
    "def add_texture(input_path, output_path):\n",
    "    image = cv2.imread(input_path)\n",
    "    texture = cv2.imread(\"./texture.jpg\")\n",
    "    texture = cv2.resize(texture, (400, 400), interpolation = cv2.INTER_AREA)\n",
    "    \n",
    "    \n",
    "    image[image == 255] = texture[image == 255]\n",
    "    cv2.imwrite(output_path, image)"
   ]
  },
  {
   "cell_type": "code",
   "execution_count": 13,
   "metadata": {},
   "outputs": [],
   "source": [
    "for angle in range(1, 5):\n",
    "    for i in range(10, 30000, 10):\n",
    "        input_path = f\"rgb/{i:08}_{angle}.png\"\n",
    "        output_path = f\"CROP_IMG_TEXTURE/{i:08}_{angle}.png\"\n",
    "                \n",
    "        if os.path.exists(input_path):\n",
    "            add_texture(input_path, output_path)\n"
   ]
  },
  {
   "cell_type": "code",
   "execution_count": null,
   "metadata": {},
   "outputs": [],
   "source": []
  }
 ],
 "metadata": {
  "kernelspec": {
   "display_name": "Python 3",
   "language": "python",
   "name": "python3"
  },
  "language_info": {
   "codemirror_mode": {
    "name": "ipython",
    "version": 3
   },
   "file_extension": ".py",
   "mimetype": "text/x-python",
   "name": "python",
   "nbconvert_exporter": "python",
   "pygments_lexer": "ipython3",
   "version": "3.7.3"
  }
 },
 "nbformat": 4,
 "nbformat_minor": 2
}
